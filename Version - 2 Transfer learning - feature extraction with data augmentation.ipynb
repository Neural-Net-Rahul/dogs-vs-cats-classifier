{
 "cells": [
  {
   "cell_type": "markdown",
   "id": "32a93120",
   "metadata": {
    "papermill": {
     "duration": 0.004808,
     "end_time": "2023-12-13T12:41:23.631144",
     "exception": false,
     "start_time": "2023-12-13T12:41:23.626336",
     "status": "completed"
    },
    "tags": []
   },
   "source": [
    "**Using Transfer learning feature extraction with data augmentation**"
   ]
  },
  {
   "cell_type": "code",
   "execution_count": 1,
   "id": "9925fd2c",
   "metadata": {
    "execution": {
     "iopub.execute_input": "2023-12-13T12:41:23.642346Z",
     "iopub.status.busy": "2023-12-13T12:41:23.641450Z",
     "iopub.status.idle": "2023-12-13T12:41:36.109724Z",
     "shell.execute_reply": "2023-12-13T12:41:36.108915Z"
    },
    "papermill": {
     "duration": 12.476217,
     "end_time": "2023-12-13T12:41:36.112001",
     "exception": false,
     "start_time": "2023-12-13T12:41:23.635784",
     "status": "completed"
    },
    "tags": []
   },
   "outputs": [
    {
     "name": "stderr",
     "output_type": "stream",
     "text": [
      "/opt/conda/lib/python3.10/site-packages/scipy/__init__.py:146: UserWarning: A NumPy version >=1.16.5 and <1.23.0 is required for this version of SciPy (detected version 1.24.3\n",
      "  warnings.warn(f\"A NumPy version >={np_minversion} and <{np_maxversion}\"\n"
     ]
    }
   ],
   "source": [
    "import tensorflow\n",
    "from tensorflow import keras\n",
    "from keras import Sequential\n",
    "from keras.layers import Dense,Flatten\n",
    "from keras.applications.vgg16 import VGG16\n",
    "from keras.preprocessing.image import ImageDataGenerator, array_to_img, img_to_array, load_img"
   ]
  },
  {
   "cell_type": "code",
   "execution_count": 2,
   "id": "8ff4857f",
   "metadata": {
    "execution": {
     "iopub.execute_input": "2023-12-13T12:41:36.123149Z",
     "iopub.status.busy": "2023-12-13T12:41:36.122522Z",
     "iopub.status.idle": "2023-12-13T12:41:39.854489Z",
     "shell.execute_reply": "2023-12-13T12:41:39.853361Z"
    },
    "papermill": {
     "duration": 3.740508,
     "end_time": "2023-12-13T12:41:39.857102",
     "exception": false,
     "start_time": "2023-12-13T12:41:36.116594",
     "status": "completed"
    },
    "tags": []
   },
   "outputs": [
    {
     "name": "stdout",
     "output_type": "stream",
     "text": [
      "Downloading data from https://storage.googleapis.com/tensorflow/keras-applications/vgg16/vgg16_weights_tf_dim_ordering_tf_kernels_notop.h5\n",
      "58889256/58889256 [==============================] - 0s 0us/step\n"
     ]
    }
   ],
   "source": [
    "conv_base = VGG16(\n",
    "    weights = 'imagenet',\n",
    "    include_top = False, # remove the dense \n",
    "    input_shape = (150,150,3) # reshaping\n",
    ")"
   ]
  },
  {
   "cell_type": "code",
   "execution_count": 3,
   "id": "51d6ee56",
   "metadata": {
    "execution": {
     "iopub.execute_input": "2023-12-13T12:41:39.869659Z",
     "iopub.status.busy": "2023-12-13T12:41:39.868835Z",
     "iopub.status.idle": "2023-12-13T12:41:39.918598Z",
     "shell.execute_reply": "2023-12-13T12:41:39.914310Z"
    },
    "papermill": {
     "duration": 0.069286,
     "end_time": "2023-12-13T12:41:39.931780",
     "exception": false,
     "start_time": "2023-12-13T12:41:39.862494",
     "status": "completed"
    },
    "tags": []
   },
   "outputs": [
    {
     "name": "stdout",
     "output_type": "stream",
     "text": [
      "Model: \"vgg16\"\n",
      "_________________________________________________________________\n",
      " Layer (type)                Output Shape              Param #   \n",
      "=================================================================\n",
      " input_1 (InputLayer)        [(None, 150, 150, 3)]     0         \n",
      "                                                                 \n",
      " block1_conv1 (Conv2D)       (None, 150, 150, 64)      1792      \n",
      "                                                                 \n",
      " block1_conv2 (Conv2D)       (None, 150, 150, 64)      36928     \n",
      "                                                                 \n",
      " block1_pool (MaxPooling2D)  (None, 75, 75, 64)        0         \n",
      "                                                                 \n",
      " block2_conv1 (Conv2D)       (None, 75, 75, 128)       73856     \n",
      "                                                                 \n",
      " block2_conv2 (Conv2D)       (None, 75, 75, 128)       147584    \n",
      "                                                                 \n",
      " block2_pool (MaxPooling2D)  (None, 37, 37, 128)       0         \n",
      "                                                                 \n",
      " block3_conv1 (Conv2D)       (None, 37, 37, 256)       295168    \n",
      "                                                                 \n",
      " block3_conv2 (Conv2D)       (None, 37, 37, 256)       590080    \n",
      "                                                                 \n",
      " block3_conv3 (Conv2D)       (None, 37, 37, 256)       590080    \n",
      "                                                                 \n",
      " block3_pool (MaxPooling2D)  (None, 18, 18, 256)       0         \n",
      "                                                                 \n",
      " block4_conv1 (Conv2D)       (None, 18, 18, 512)       1180160   \n",
      "                                                                 \n",
      " block4_conv2 (Conv2D)       (None, 18, 18, 512)       2359808   \n",
      "                                                                 \n",
      " block4_conv3 (Conv2D)       (None, 18, 18, 512)       2359808   \n",
      "                                                                 \n",
      " block4_pool (MaxPooling2D)  (None, 9, 9, 512)         0         \n",
      "                                                                 \n",
      " block5_conv1 (Conv2D)       (None, 9, 9, 512)         2359808   \n",
      "                                                                 \n",
      " block5_conv2 (Conv2D)       (None, 9, 9, 512)         2359808   \n",
      "                                                                 \n",
      " block5_conv3 (Conv2D)       (None, 9, 9, 512)         2359808   \n",
      "                                                                 \n",
      " block5_pool (MaxPooling2D)  (None, 4, 4, 512)         0         \n",
      "                                                                 \n",
      "=================================================================\n",
      "Total params: 14714688 (56.13 MB)\n",
      "Trainable params: 14714688 (56.13 MB)\n",
      "Non-trainable params: 0 (0.00 Byte)\n",
      "_________________________________________________________________\n"
     ]
    }
   ],
   "source": [
    "conv_base.summary()"
   ]
  },
  {
   "cell_type": "code",
   "execution_count": 4,
   "id": "4a3c2ba6",
   "metadata": {
    "execution": {
     "iopub.execute_input": "2023-12-13T12:41:39.951672Z",
     "iopub.status.busy": "2023-12-13T12:41:39.950741Z",
     "iopub.status.idle": "2023-12-13T12:41:40.054592Z",
     "shell.execute_reply": "2023-12-13T12:41:40.053715Z"
    },
    "papermill": {
     "duration": 0.116144,
     "end_time": "2023-12-13T12:41:40.056873",
     "exception": false,
     "start_time": "2023-12-13T12:41:39.940729",
     "status": "completed"
    },
    "tags": []
   },
   "outputs": [],
   "source": [
    "model = Sequential()\n",
    "\n",
    "model.add(conv_base)\n",
    "model.add(Flatten())\n",
    "model.add(Dense(256,activation='relu'))\n",
    "model.add(Dense(1,activation='sigmoid'))"
   ]
  },
  {
   "cell_type": "code",
   "execution_count": 5,
   "id": "886d07c0",
   "metadata": {
    "execution": {
     "iopub.execute_input": "2023-12-13T12:41:40.076198Z",
     "iopub.status.busy": "2023-12-13T12:41:40.075866Z",
     "iopub.status.idle": "2023-12-13T12:41:40.096673Z",
     "shell.execute_reply": "2023-12-13T12:41:40.095748Z"
    },
    "papermill": {
     "duration": 0.035764,
     "end_time": "2023-12-13T12:41:40.101437",
     "exception": false,
     "start_time": "2023-12-13T12:41:40.065673",
     "status": "completed"
    },
    "tags": []
   },
   "outputs": [
    {
     "name": "stdout",
     "output_type": "stream",
     "text": [
      "Model: \"sequential\"\n",
      "_________________________________________________________________\n",
      " Layer (type)                Output Shape              Param #   \n",
      "=================================================================\n",
      " vgg16 (Functional)          (None, 4, 4, 512)         14714688  \n",
      "                                                                 \n",
      " flatten (Flatten)           (None, 8192)              0         \n",
      "                                                                 \n",
      " dense (Dense)               (None, 256)               2097408   \n",
      "                                                                 \n",
      " dense_1 (Dense)             (None, 1)                 257       \n",
      "                                                                 \n",
      "=================================================================\n",
      "Total params: 16812353 (64.13 MB)\n",
      "Trainable params: 16812353 (64.13 MB)\n",
      "Non-trainable params: 0 (0.00 Byte)\n",
      "_________________________________________________________________\n"
     ]
    }
   ],
   "source": [
    "model.summary()"
   ]
  },
  {
   "cell_type": "code",
   "execution_count": 6,
   "id": "6f5056b2",
   "metadata": {
    "execution": {
     "iopub.execute_input": "2023-12-13T12:41:40.123524Z",
     "iopub.status.busy": "2023-12-13T12:41:40.123120Z",
     "iopub.status.idle": "2023-12-13T12:41:40.128709Z",
     "shell.execute_reply": "2023-12-13T12:41:40.127738Z"
    },
    "papermill": {
     "duration": 0.019086,
     "end_time": "2023-12-13T12:41:40.130750",
     "exception": false,
     "start_time": "2023-12-13T12:41:40.111664",
     "status": "completed"
    },
    "tags": []
   },
   "outputs": [],
   "source": [
    "conv_base.trainable = False"
   ]
  },
  {
   "cell_type": "code",
   "execution_count": 7,
   "id": "cf3c75af",
   "metadata": {
    "execution": {
     "iopub.execute_input": "2023-12-13T12:41:40.154056Z",
     "iopub.status.busy": "2023-12-13T12:41:40.153185Z",
     "iopub.status.idle": "2023-12-13T12:41:40.158057Z",
     "shell.execute_reply": "2023-12-13T12:41:40.157100Z"
    },
    "papermill": {
     "duration": 0.018701,
     "end_time": "2023-12-13T12:41:40.159922",
     "exception": false,
     "start_time": "2023-12-13T12:41:40.141221",
     "status": "completed"
    },
    "tags": []
   },
   "outputs": [],
   "source": [
    "# Use when we are not doing data augmentation\n",
    "# train_ds = keras.utils.image_dataset_from_directory(\n",
    "#     directory = '/kaggle/input/dogs-vs-cats/train',\n",
    "#     image_size = (150,150)\n",
    "# )\n",
    "# validation_ds = keras.utils.image_dataset_from_directory(\n",
    "#     directory = '/kaggle/input/dogs-vs-cats/test',\n",
    "#     image_size = (150,150)\n",
    "# )"
   ]
  },
  {
   "cell_type": "code",
   "execution_count": 8,
   "id": "9588a990",
   "metadata": {
    "execution": {
     "iopub.execute_input": "2023-12-13T12:41:40.182647Z",
     "iopub.status.busy": "2023-12-13T12:41:40.181748Z",
     "iopub.status.idle": "2023-12-13T12:42:11.303857Z",
     "shell.execute_reply": "2023-12-13T12:42:11.302698Z"
    },
    "papermill": {
     "duration": 31.135961,
     "end_time": "2023-12-13T12:42:11.306119",
     "exception": false,
     "start_time": "2023-12-13T12:41:40.170158",
     "status": "completed"
    },
    "tags": []
   },
   "outputs": [
    {
     "name": "stdout",
     "output_type": "stream",
     "text": [
      "Found 20000 images belonging to 2 classes.\n",
      "Found 5000 images belonging to 2 classes.\n"
     ]
    }
   ],
   "source": [
    "# Data Augmentation\n",
    "batch_size = 100\n",
    "train_datagen = ImageDataGenerator(\n",
    "    rescale = 1./255,\n",
    "    shear_range = 0.2,\n",
    "    zoom_range = 0.2,\n",
    "    horizontal_flip = True\n",
    ")\n",
    "test_datagen = ImageDataGenerator(rescale=1./255)\n",
    "train_generator = train_datagen.flow_from_directory(\n",
    "    '/kaggle/input/dogs-vs-cats/train',\n",
    "    target_size = (150,150),\n",
    "    batch_size = batch_size,\n",
    "    class_mode = 'binary'\n",
    ")\n",
    "validation_generator = test_datagen.flow_from_directory(\n",
    "    '/kaggle/input/dogs-vs-cats/test',\n",
    "    target_size = (150,150),\n",
    "    batch_size = batch_size,\n",
    "    class_mode ='binary'\n",
    ")"
   ]
  },
  {
   "cell_type": "code",
   "execution_count": 9,
   "id": "25766701",
   "metadata": {
    "execution": {
     "iopub.execute_input": "2023-12-13T12:42:11.328693Z",
     "iopub.status.busy": "2023-12-13T12:42:11.328311Z",
     "iopub.status.idle": "2023-12-13T12:42:11.332515Z",
     "shell.execute_reply": "2023-12-13T12:42:11.331636Z"
    },
    "papermill": {
     "duration": 0.017903,
     "end_time": "2023-12-13T12:42:11.334387",
     "exception": false,
     "start_time": "2023-12-13T12:42:11.316484",
     "status": "completed"
    },
    "tags": []
   },
   "outputs": [],
   "source": [
    "# def process(image,label):\n",
    "#     image = tensorflow.cast(image/255.,tensorflow.float32)\n",
    "#     return image,label\n",
    "# train_ds = train_ds.map(process)\n",
    "# validation_ds = validation_ds.map(process)"
   ]
  },
  {
   "cell_type": "code",
   "execution_count": 10,
   "id": "1b82fac2",
   "metadata": {
    "execution": {
     "iopub.execute_input": "2023-12-13T12:42:11.357567Z",
     "iopub.status.busy": "2023-12-13T12:42:11.357213Z",
     "iopub.status.idle": "2023-12-13T12:42:11.375514Z",
     "shell.execute_reply": "2023-12-13T12:42:11.374619Z"
    },
    "papermill": {
     "duration": 0.031914,
     "end_time": "2023-12-13T12:42:11.377684",
     "exception": false,
     "start_time": "2023-12-13T12:42:11.345770",
     "status": "completed"
    },
    "tags": []
   },
   "outputs": [],
   "source": [
    "model.compile(optimizer='adam',loss='binary_crossentropy',metrics=['accuracy'])"
   ]
  },
  {
   "cell_type": "code",
   "execution_count": 11,
   "id": "dd6b4767",
   "metadata": {
    "execution": {
     "iopub.execute_input": "2023-12-13T12:42:11.400306Z",
     "iopub.status.busy": "2023-12-13T12:42:11.399941Z",
     "iopub.status.idle": "2023-12-13T13:11:58.692707Z",
     "shell.execute_reply": "2023-12-13T13:11:58.691706Z"
    },
    "papermill": {
     "duration": 1787.471005,
     "end_time": "2023-12-13T13:11:58.859168",
     "exception": false,
     "start_time": "2023-12-13T12:42:11.388163",
     "status": "completed"
    },
    "tags": []
   },
   "outputs": [
    {
     "name": "stderr",
     "output_type": "stream",
     "text": [
      "/tmp/ipykernel_26/2989876013.py:2: UserWarning: `Model.fit_generator` is deprecated and will be removed in a future version. Please use `Model.fit`, which supports generators.\n",
      "  history = model.fit_generator(\n"
     ]
    },
    {
     "name": "stdout",
     "output_type": "stream",
     "text": [
      "Epoch 1/10\n",
      "200/200 [==============================] - 343s 2s/step - loss: 0.4206 - accuracy: 0.8142 - val_loss: 0.3031 - val_accuracy: 0.8650\n",
      "Epoch 2/10\n",
      "200/200 [==============================] - 160s 802ms/step - loss: 0.3302 - accuracy: 0.8529 - val_loss: 0.2907 - val_accuracy: 0.8790\n",
      "Epoch 3/10\n",
      "200/200 [==============================] - 160s 799ms/step - loss: 0.3027 - accuracy: 0.8661 - val_loss: 0.2737 - val_accuracy: 0.8810\n",
      "Epoch 4/10\n",
      "200/200 [==============================] - 160s 801ms/step - loss: 0.2860 - accuracy: 0.8762 - val_loss: 0.2874 - val_accuracy: 0.8722\n",
      "Epoch 5/10\n",
      "200/200 [==============================] - 160s 799ms/step - loss: 0.2753 - accuracy: 0.8802 - val_loss: 0.2657 - val_accuracy: 0.8866\n",
      "Epoch 6/10\n",
      "200/200 [==============================] - 160s 801ms/step - loss: 0.2607 - accuracy: 0.8859 - val_loss: 0.2617 - val_accuracy: 0.8894\n",
      "Epoch 7/10\n",
      "200/200 [==============================] - 162s 807ms/step - loss: 0.2456 - accuracy: 0.8958 - val_loss: 0.2667 - val_accuracy: 0.8830\n",
      "Epoch 8/10\n",
      "200/200 [==============================] - 162s 809ms/step - loss: 0.2334 - accuracy: 0.9000 - val_loss: 0.2735 - val_accuracy: 0.8818\n",
      "Epoch 9/10\n",
      "200/200 [==============================] - 160s 798ms/step - loss: 0.2279 - accuracy: 0.9029 - val_loss: 0.2832 - val_accuracy: 0.8728\n",
      "Epoch 10/10\n",
      "200/200 [==============================] - 159s 793ms/step - loss: 0.2134 - accuracy: 0.9100 - val_loss: 0.2751 - val_accuracy: 0.8812\n"
     ]
    }
   ],
   "source": [
    "# history = model.fit(train_ds,epochs=10,validation_data=validation_ds)\n",
    "history = model.fit_generator(\n",
    "    train_generator,\n",
    "    epochs = 10,\n",
    "    validation_data = validation_generator\n",
    ")"
   ]
  },
  {
   "cell_type": "code",
   "execution_count": 12,
   "id": "e7794c40",
   "metadata": {
    "execution": {
     "iopub.execute_input": "2023-12-13T13:11:59.195336Z",
     "iopub.status.busy": "2023-12-13T13:11:59.194482Z",
     "iopub.status.idle": "2023-12-13T13:11:59.441065Z",
     "shell.execute_reply": "2023-12-13T13:11:59.440142Z"
    },
    "papermill": {
     "duration": 0.416818,
     "end_time": "2023-12-13T13:11:59.443166",
     "exception": false,
     "start_time": "2023-12-13T13:11:59.026348",
     "status": "completed"
    },
    "tags": []
   },
   "outputs": [
    {
     "data": {
      "text/plain": [
       "[<matplotlib.lines.Line2D at 0x78250ff66f20>]"
      ]
     },
     "execution_count": 12,
     "metadata": {},
     "output_type": "execute_result"
    },
    {
     "data": {
      "image/png": "[encoded data removed]",
      "text/plain": [
       "<Figure size 640x480 with 1 Axes>"
      ]
     },
     "metadata": {},
     "output_type": "display_data"
    }
   ],
   "source": [
    "import matplotlib.pyplot as plt\n",
    "plt.plot(history.history['accuracy'],color='red',label='train')\n",
    "plt.plot(history.history['val_accuracy'],color='blue',label='validation')"
   ]
  },
  {
   "cell_type": "code",
   "execution_count": 13,
   "id": "d1720e8d",
   "metadata": {
    "execution": {
     "iopub.execute_input": "2023-12-13T13:11:59.790456Z",
     "iopub.status.busy": "2023-12-13T13:11:59.790089Z",
     "iopub.status.idle": "2023-12-13T13:11:59.795376Z",
     "shell.execute_reply": "2023-12-13T13:11:59.794543Z"
    },
    "papermill": {
     "duration": 0.179358,
     "end_time": "2023-12-13T13:11:59.797549",
     "exception": false,
     "start_time": "2023-12-13T13:11:59.618191",
     "status": "completed"
    },
    "tags": []
   },
   "outputs": [
    {
     "name": "stdout",
     "output_type": "stream",
     "text": [
      "accuracy:  0.9099500179290771\n",
      "val_accuracy:  0.8812000155448914\n"
     ]
    }
   ],
   "source": [
    "print('accuracy: ',history.history['accuracy'][9])\n",
    "print('val_accuracy: ',history.history['val_accuracy'][9])"
   ]
  }
 ],
 "metadata": {
  "kaggle": {
   "accelerator": "gpu",
   "dataSources": [
    {
     "datasetId": 84954,
     "sourceId": 196452,
     "sourceType": "datasetVersion"
    }
   ],
   "dockerImageVersionId": 30616,
   "isGpuEnabled": true,
   "isInternetEnabled": true,
   "language": "python",
   "sourceType": "notebook"
  },
  "kernelspec": {
   "display_name": "Python 3",
   "language": "python",
   "name": "python3"
  },
  "language_info": {
   "codemirror_mode": {
    "name": "ipython",
    "version": 3
   },
   "file_extension": ".py",
   "mimetype": "text/x-python",
   "name": "python",
   "nbconvert_exporter": "python",
   "pygments_lexer": "ipython3",
   "version": "3.10.12"
  },
  "papermill": {
   "default_parameters": {},
   "duration": 1843.334603,
   "end_time": "2023-12-13T13:12:03.430432",
   "environment_variables": {},
   "exception": null,
   "input_path": "__notebook__.ipynb",
   "output_path": "__notebook__.ipynb",
   "parameters": {},
   "start_time": "2023-12-13T12:41:20.095829",
   "version": "2.4.0"
  }
 },
 "nbformat": 4,
 "nbformat_minor": 5
}
