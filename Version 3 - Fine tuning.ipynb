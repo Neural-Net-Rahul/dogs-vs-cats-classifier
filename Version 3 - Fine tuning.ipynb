{
 "cells": [
  {
   "cell_type": "markdown",
   "id": "97536b5f",
   "metadata": {
    "papermill": {
     "duration": 0.006338,
     "end_time": "2023-12-13T13:46:07.439165",
     "exception": false,
     "start_time": "2023-12-13T13:46:07.432827",
     "status": "completed"
    },
    "tags": []
   },
   "source": [
    "**Using Transfer learning fine tuning**"
   ]
  },
  {
   "cell_type": "code",
   "execution_count": 1,
   "id": "478ae4e6",
   "metadata": {
    "execution": {
     "iopub.execute_input": "2023-12-13T13:46:07.450927Z",
     "iopub.status.busy": "2023-12-13T13:46:07.450513Z",
     "iopub.status.idle": "2023-12-13T13:46:18.558954Z",
     "shell.execute_reply": "2023-12-13T13:46:18.558146Z"
    },
    "papermill": {
     "duration": 11.116192,
     "end_time": "2023-12-13T13:46:18.561310",
     "exception": false,
     "start_time": "2023-12-13T13:46:07.445118",
     "status": "completed"
    },
    "tags": []
   },
   "outputs": [
    {
     "name": "stderr",
     "output_type": "stream",
     "text": [
      "/opt/conda/lib/python3.10/site-packages/scipy/__init__.py:146: UserWarning: A NumPy version >=1.16.5 and <1.23.0 is required for this version of SciPy (detected version 1.24.3\n",
      "  warnings.warn(f\"A NumPy version >={np_minversion} and <{np_maxversion}\"\n"
     ]
    }
   ],
   "source": [
    "import tensorflow\n",
    "from tensorflow import keras\n",
    "from keras import Sequential\n",
    "from keras.layers import Dense,Flatten\n",
    "from keras.applications.vgg16 import VGG16\n",
    "from keras.preprocessing.image import ImageDataGenerator, array_to_img, img_to_array, load_img"
   ]
  },
  {
   "cell_type": "code",
   "execution_count": 2,
   "id": "76f56f8c",
   "metadata": {
    "execution": {
     "iopub.execute_input": "2023-12-13T13:46:18.571245Z",
     "iopub.status.busy": "2023-12-13T13:46:18.570699Z",
     "iopub.status.idle": "2023-12-13T13:46:24.919858Z",
     "shell.execute_reply": "2023-12-13T13:46:24.918839Z"
    },
    "papermill": {
     "duration": 6.356487,
     "end_time": "2023-12-13T13:46:24.922213",
     "exception": false,
     "start_time": "2023-12-13T13:46:18.565726",
     "status": "completed"
    },
    "tags": []
   },
   "outputs": [
    {
     "name": "stdout",
     "output_type": "stream",
     "text": [
      "Downloading data from https://storage.googleapis.com/tensorflow/keras-applications/vgg16/vgg16_weights_tf_dim_ordering_tf_kernels_notop.h5\n",
      "58889256/58889256 [==============================] - 3s 0us/step\n"
     ]
    }
   ],
   "source": [
    "conv_base = VGG16(\n",
    "    weights = 'imagenet',\n",
    "    include_top = False, # remove the dense \n",
    "    input_shape = (150,150,3) # reshaping\n",
    ")"
   ]
  },
  {
   "cell_type": "code",
   "execution_count": 3,
   "id": "40f5e41b",
   "metadata": {
    "execution": {
     "iopub.execute_input": "2023-12-13T13:46:24.939470Z",
     "iopub.status.busy": "2023-12-13T13:46:24.939165Z",
     "iopub.status.idle": "2023-12-13T13:46:24.988642Z",
     "shell.execute_reply": "2023-12-13T13:46:24.987699Z"
    },
    "papermill": {
     "duration": 0.068805,
     "end_time": "2023-12-13T13:46:24.999152",
     "exception": false,
     "start_time": "2023-12-13T13:46:24.930347",
     "status": "completed"
    },
    "tags": []
   },
   "outputs": [
    {
     "name": "stdout",
     "output_type": "stream",
     "text": [
      "Model: \"vgg16\"\n",
      "_________________________________________________________________\n",
      " Layer (type)                Output Shape              Param #   \n",
      "=================================================================\n",
      " input_1 (InputLayer)        [(None, 150, 150, 3)]     0         \n",
      "                                                                 \n",
      " block1_conv1 (Conv2D)       (None, 150, 150, 64)      1792      \n",
      "                                                                 \n",
      " block1_conv2 (Conv2D)       (None, 150, 150, 64)      36928     \n",
      "                                                                 \n",
      " block1_pool (MaxPooling2D)  (None, 75, 75, 64)        0         \n",
      "                                                                 \n",
      " block2_conv1 (Conv2D)       (None, 75, 75, 128)       73856     \n",
      "                                                                 \n",
      " block2_conv2 (Conv2D)       (None, 75, 75, 128)       147584    \n",
      "                                                                 \n",
      " block2_pool (MaxPooling2D)  (None, 37, 37, 128)       0         \n",
      "                                                                 \n",
      " block3_conv1 (Conv2D)       (None, 37, 37, 256)       295168    \n",
      "                                                                 \n",
      " block3_conv2 (Conv2D)       (None, 37, 37, 256)       590080    \n",
      "                                                                 \n",
      " block3_conv3 (Conv2D)       (None, 37, 37, 256)       590080    \n",
      "                                                                 \n",
      " block3_pool (MaxPooling2D)  (None, 18, 18, 256)       0         \n",
      "                                                                 \n",
      " block4_conv1 (Conv2D)       (None, 18, 18, 512)       1180160   \n",
      "                                                                 \n",
      " block4_conv2 (Conv2D)       (None, 18, 18, 512)       2359808   \n",
      "                                                                 \n",
      " block4_conv3 (Conv2D)       (None, 18, 18, 512)       2359808   \n",
      "                                                                 \n",
      " block4_pool (MaxPooling2D)  (None, 9, 9, 512)         0         \n",
      "                                                                 \n",
      " block5_conv1 (Conv2D)       (None, 9, 9, 512)         2359808   \n",
      "                                                                 \n",
      " block5_conv2 (Conv2D)       (None, 9, 9, 512)         2359808   \n",
      "                                                                 \n",
      " block5_conv3 (Conv2D)       (None, 9, 9, 512)         2359808   \n",
      "                                                                 \n",
      " block5_pool (MaxPooling2D)  (None, 4, 4, 512)         0         \n",
      "                                                                 \n",
      "=================================================================\n",
      "Total params: 14714688 (56.13 MB)\n",
      "Trainable params: 14714688 (56.13 MB)\n",
      "Non-trainable params: 0 (0.00 Byte)\n",
      "_________________________________________________________________\n"
     ]
    }
   ],
   "source": [
    "conv_base.summary()"
   ]
  },
  {
   "cell_type": "code",
   "execution_count": 4,
   "id": "640c4491",
   "metadata": {
    "execution": {
     "iopub.execute_input": "2023-12-13T13:46:25.022947Z",
     "iopub.status.busy": "2023-12-13T13:46:25.022662Z",
     "iopub.status.idle": "2023-12-13T13:46:25.122872Z",
     "shell.execute_reply": "2023-12-13T13:46:25.122157Z"
    },
    "papermill": {
     "duration": 0.114379,
     "end_time": "2023-12-13T13:46:25.124825",
     "exception": false,
     "start_time": "2023-12-13T13:46:25.010446",
     "status": "completed"
    },
    "tags": []
   },
   "outputs": [],
   "source": [
    "model = Sequential()\n",
    "\n",
    "model.add(conv_base)\n",
    "model.add(Flatten())\n",
    "model.add(Dense(256,activation='relu'))\n",
    "model.add(Dense(1,activation='sigmoid'))"
   ]
  },
  {
   "cell_type": "code",
   "execution_count": 5,
   "id": "20a40e00",
   "metadata": {
    "execution": {
     "iopub.execute_input": "2023-12-13T13:46:25.151183Z",
     "iopub.status.busy": "2023-12-13T13:46:25.150926Z",
     "iopub.status.idle": "2023-12-13T13:46:25.171830Z",
     "shell.execute_reply": "2023-12-13T13:46:25.169990Z"
    },
    "papermill": {
     "duration": 0.03933,
     "end_time": "2023-12-13T13:46:25.176406",
     "exception": false,
     "start_time": "2023-12-13T13:46:25.137076",
     "status": "completed"
    },
    "tags": []
   },
   "outputs": [
    {
     "name": "stdout",
     "output_type": "stream",
     "text": [
      "Model: \"sequential\"\n",
      "_________________________________________________________________\n",
      " Layer (type)                Output Shape              Param #   \n",
      "=================================================================\n",
      " vgg16 (Functional)          (None, 4, 4, 512)         14714688  \n",
      "                                                                 \n",
      " flatten (Flatten)           (None, 8192)              0         \n",
      "                                                                 \n",
      " dense (Dense)               (None, 256)               2097408   \n",
      "                                                                 \n",
      " dense_1 (Dense)             (None, 1)                 257       \n",
      "                                                                 \n",
      "=================================================================\n",
      "Total params: 16812353 (64.13 MB)\n",
      "Trainable params: 16812353 (64.13 MB)\n",
      "Non-trainable params: 0 (0.00 Byte)\n",
      "_________________________________________________________________\n"
     ]
    }
   ],
   "source": [
    "model.summary()"
   ]
  },
  {
   "cell_type": "code",
   "execution_count": 6,
   "id": "5d9d1c9f",
   "metadata": {
    "execution": {
     "iopub.execute_input": "2023-12-13T13:46:25.203239Z",
     "iopub.status.busy": "2023-12-13T13:46:25.202964Z",
     "iopub.status.idle": "2023-12-13T13:46:25.210663Z",
     "shell.execute_reply": "2023-12-13T13:46:25.209567Z"
    },
    "papermill": {
     "duration": 0.023398,
     "end_time": "2023-12-13T13:46:25.212515",
     "exception": false,
     "start_time": "2023-12-13T13:46:25.189117",
     "status": "completed"
    },
    "tags": []
   },
   "outputs": [
    {
     "name": "stdout",
     "output_type": "stream",
     "text": [
      "input_1 False\n",
      "block1_conv1 False\n",
      "block1_conv2 False\n",
      "block1_pool False\n",
      "block2_conv1 False\n",
      "block2_conv2 False\n",
      "block2_pool False\n",
      "block3_conv1 False\n",
      "block3_conv2 False\n",
      "block3_conv3 False\n",
      "block3_pool False\n",
      "block4_conv1 False\n",
      "block4_conv2 False\n",
      "block4_conv3 False\n",
      "block4_pool False\n",
      "block5_conv1 True\n",
      "block5_conv2 True\n",
      "block5_conv3 True\n",
      "block5_pool True\n"
     ]
    }
   ],
   "source": [
    "conv_base.trainable = True\n",
    "set_trainable = False\n",
    "for layer in conv_base.layers:\n",
    "    if layer.name == 'block5_conv1':\n",
    "        set_trainable = True\n",
    "    if set_trainable:\n",
    "        layer.trainable = True\n",
    "    else:\n",
    "        layer.trainable = False\n",
    "for layer in conv_base.layers:\n",
    "    print(layer.name,layer.trainable)"
   ]
  },
  {
   "cell_type": "code",
   "execution_count": 7,
   "id": "a1d77e27",
   "metadata": {
    "execution": {
     "iopub.execute_input": "2023-12-13T13:46:25.239167Z",
     "iopub.status.busy": "2023-12-13T13:46:25.238921Z",
     "iopub.status.idle": "2023-12-13T13:46:45.834386Z",
     "shell.execute_reply": "2023-12-13T13:46:45.833422Z"
    },
    "papermill": {
     "duration": 20.611453,
     "end_time": "2023-12-13T13:46:45.836885",
     "exception": false,
     "start_time": "2023-12-13T13:46:25.225432",
     "status": "completed"
    },
    "tags": []
   },
   "outputs": [
    {
     "name": "stdout",
     "output_type": "stream",
     "text": [
      "Found 20000 files belonging to 2 classes.\n",
      "Found 5000 files belonging to 2 classes.\n"
     ]
    }
   ],
   "source": [
    "train_ds = keras.utils.image_dataset_from_directory(\n",
    "    directory = '/kaggle/input/dogs-vs-cats/train',\n",
    "    image_size = (150,150)\n",
    ")\n",
    "validation_ds = keras.utils.image_dataset_from_directory(\n",
    "    directory = '/kaggle/input/dogs-vs-cats/test',\n",
    "    image_size = (150,150)\n",
    ")"
   ]
  },
  {
   "cell_type": "code",
   "execution_count": 8,
   "id": "c9fa604e",
   "metadata": {
    "execution": {
     "iopub.execute_input": "2023-12-13T13:46:45.865495Z",
     "iopub.status.busy": "2023-12-13T13:46:45.864860Z",
     "iopub.status.idle": "2023-12-13T13:46:45.929659Z",
     "shell.execute_reply": "2023-12-13T13:46:45.928877Z"
    },
    "papermill": {
     "duration": 0.08165,
     "end_time": "2023-12-13T13:46:45.932003",
     "exception": false,
     "start_time": "2023-12-13T13:46:45.850353",
     "status": "completed"
    },
    "tags": []
   },
   "outputs": [],
   "source": [
    "def process(image,label):\n",
    "    image = tensorflow.cast(image/255.,tensorflow.float32)\n",
    "    return image,label\n",
    "train_ds = train_ds.map(process)\n",
    "validation_ds = validation_ds.map(process)"
   ]
  },
  {
   "cell_type": "code",
   "execution_count": 9,
   "id": "c779065c",
   "metadata": {
    "execution": {
     "iopub.execute_input": "2023-12-13T13:46:45.960148Z",
     "iopub.status.busy": "2023-12-13T13:46:45.959594Z",
     "iopub.status.idle": "2023-12-13T13:46:45.976132Z",
     "shell.execute_reply": "2023-12-13T13:46:45.975192Z"
    },
    "papermill": {
     "duration": 0.032649,
     "end_time": "2023-12-13T13:46:45.978095",
     "exception": false,
     "start_time": "2023-12-13T13:46:45.945446",
     "status": "completed"
    },
    "tags": []
   },
   "outputs": [],
   "source": [
    "model.compile(\n",
    "    optimizer=keras.optimizers.RMSprop(lr=1e-5),\n",
    "    loss='binary_crossentropy',\n",
    "    metrics=['accuracy']\n",
    ")"
   ]
  },
  {
   "cell_type": "code",
   "execution_count": 10,
   "id": "667c4058",
   "metadata": {
    "execution": {
     "iopub.execute_input": "2023-12-13T13:46:46.005750Z",
     "iopub.status.busy": "2023-12-13T13:46:46.005421Z",
     "iopub.status.idle": "2023-12-13T13:52:27.642030Z",
     "shell.execute_reply": "2023-12-13T13:52:27.640981Z"
    },
    "papermill": {
     "duration": 341.924188,
     "end_time": "2023-12-13T13:52:27.915442",
     "exception": false,
     "start_time": "2023-12-13T13:46:45.991254",
     "status": "completed"
    },
    "tags": []
   },
   "outputs": [
    {
     "name": "stdout",
     "output_type": "stream",
     "text": [
      "Epoch 1/10\n",
      "625/625 [==============================] - 44s 56ms/step - loss: 1.6241 - accuracy: 0.5006 - val_loss: 0.6932 - val_accuracy: 0.5000\n",
      "Epoch 2/10\n",
      "625/625 [==============================] - 33s 52ms/step - loss: 0.6932 - accuracy: 0.4967 - val_loss: 0.6932 - val_accuracy: 0.5000\n",
      "Epoch 3/10\n",
      "625/625 [==============================] - 33s 52ms/step - loss: 0.6932 - accuracy: 0.4933 - val_loss: 0.6932 - val_accuracy: 0.5000\n",
      "Epoch 4/10\n",
      "625/625 [==============================] - 33s 53ms/step - loss: 0.6932 - accuracy: 0.4969 - val_loss: 0.6931 - val_accuracy: 0.5000\n",
      "Epoch 5/10\n",
      "625/625 [==============================] - 33s 53ms/step - loss: 0.6932 - accuracy: 0.4942 - val_loss: 0.6931 - val_accuracy: 0.5000\n",
      "Epoch 6/10\n",
      "625/625 [==============================] - 33s 53ms/step - loss: 0.6932 - accuracy: 0.4960 - val_loss: 0.6931 - val_accuracy: 0.5000\n",
      "Epoch 7/10\n",
      "625/625 [==============================] - 33s 53ms/step - loss: 0.6932 - accuracy: 0.4970 - val_loss: 0.6931 - val_accuracy: 0.5000\n",
      "Epoch 8/10\n",
      "625/625 [==============================] - 33s 53ms/step - loss: 0.6932 - accuracy: 0.4964 - val_loss: 0.6931 - val_accuracy: 0.5000\n",
      "Epoch 9/10\n",
      "625/625 [==============================] - 33s 53ms/step - loss: 0.6932 - accuracy: 0.4975 - val_loss: 0.6932 - val_accuracy: 0.5000\n",
      "Epoch 10/10\n",
      "625/625 [==============================] - 33s 53ms/step - loss: 0.6932 - accuracy: 0.4935 - val_loss: 0.6931 - val_accuracy: 0.5000\n"
     ]
    }
   ],
   "source": [
    "history = model.fit(train_ds,epochs=10,validation_data=validation_ds)"
   ]
  },
  {
   "cell_type": "code",
   "execution_count": 11,
   "id": "bea96385",
   "metadata": {
    "execution": {
     "iopub.execute_input": "2023-12-13T13:52:28.448476Z",
     "iopub.status.busy": "2023-12-13T13:52:28.447504Z",
     "iopub.status.idle": "2023-12-13T13:52:28.664245Z",
     "shell.execute_reply": "2023-12-13T13:52:28.663291Z"
    },
    "papermill": {
     "duration": 0.486196,
     "end_time": "2023-12-13T13:52:28.666401",
     "exception": false,
     "start_time": "2023-12-13T13:52:28.180205",
     "status": "completed"
    },
    "tags": []
   },
   "outputs": [
    {
     "data": {
      "text/plain": [
       "[<matplotlib.lines.Line2D at 0x7d1de0ef2e90>]"
      ]
     },
     "execution_count": 11,
     "metadata": {},
     "output_type": "execute_result"
    },
    {
     "data": {
      "image/png": "[encoded data removed]",
      "text/plain": [
       "<Figure size 640x480 with 1 Axes>"
      ]
     },
     "metadata": {},
     "output_type": "display_data"
    }
   ],
   "source": [
    "import matplotlib.pyplot as plt\n",
    "plt.plot(history.history['accuracy'],color='red',label='train')\n",
    "plt.plot(history.history['val_accuracy'],color='blue',label='validation')"
   ]
  },
  {
   "cell_type": "code",
   "execution_count": 12,
   "id": "14f82344",
   "metadata": {
    "execution": {
     "iopub.execute_input": "2023-12-13T13:52:29.205409Z",
     "iopub.status.busy": "2023-12-13T13:52:29.205048Z",
     "iopub.status.idle": "2023-12-13T13:52:29.210332Z",
     "shell.execute_reply": "2023-12-13T13:52:29.209419Z"
    },
    "papermill": {
     "duration": 0.279707,
     "end_time": "2023-12-13T13:52:29.212520",
     "exception": false,
     "start_time": "2023-12-13T13:52:28.932813",
     "status": "completed"
    },
    "tags": []
   },
   "outputs": [
    {
     "name": "stdout",
     "output_type": "stream",
     "text": [
      "accuracy:  0.4934999942779541\n",
      "val_accuracy:  0.5\n"
     ]
    }
   ],
   "source": [
    "print('accuracy: ',history.history['accuracy'][9])\n",
    "print('val_accuracy: ',history.history['val_accuracy'][9])"
   ]
  }
 ],
 "metadata": {
  "kaggle": {
   "accelerator": "gpu",
   "dataSources": [
    {
     "datasetId": 84954,
     "sourceId": 196452,
     "sourceType": "datasetVersion"
    }
   ],
   "dockerImageVersionId": 30616,
   "isGpuEnabled": true,
   "isInternetEnabled": true,
   "language": "python",
   "sourceType": "notebook"
  },
  "kernelspec": {
   "display_name": "Python 3",
   "language": "python",
   "name": "python3"
  },
  "language_info": {
   "codemirror_mode": {
    "name": "ipython",
    "version": 3
   },
   "file_extension": ".py",
   "mimetype": "text/x-python",
   "name": "python",
   "nbconvert_exporter": "python",
   "pygments_lexer": "ipython3",
   "version": "3.10.12"
  },
  "papermill": {
   "default_parameters": {},
   "duration": 388.617791,
   "end_time": "2023-12-13T13:52:32.794436",
   "environment_variables": {},
   "exception": null,
   "input_path": "__notebook__.ipynb",
   "output_path": "__notebook__.ipynb",
   "parameters": {},
   "start_time": "2023-12-13T13:46:04.176645",
   "version": "2.4.0"
  }
 },
 "nbformat": 4,
 "nbformat_minor": 5
}
